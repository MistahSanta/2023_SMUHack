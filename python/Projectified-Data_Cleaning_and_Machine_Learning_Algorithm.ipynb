{
 "cells": [
  {
   "cell_type": "code",
   "execution_count": 1,
   "id": "c2358c53",
   "metadata": {},
   "outputs": [],
   "source": [
    "from itertools import permutations\n",
    "import random\n",
    "import pandas as pd\n",
    "from sklearn.model_selection import train_test_split\n",
    "import matplotlib.pyplot as plt\n",
    "from sklearn.linear_model import LinearRegression\n",
    "from sklearn.ensemble import RandomForestRegressor\n",
    "from sklearn.tree import DecisionTreeRegressor\n",
    "from sklearn.metrics import explained_variance_score,mean_absolute_error\n",
    "from datetime import datetime\n",
    "from sklearn.neighbors import KNeighborsRegressor\n",
    "#Ran at 120 for random forest got to %50 explained variance score using the 100000 dataset."
   ]
  },
  {
   "cell_type": "code",
   "execution_count": 2,
   "id": "1c5fa0da",
   "metadata": {},
   "outputs": [],
   "source": [
    "df=pd.read_csv(\"CRBE Challenge.csv\")\n",
    "df2=pd.read_csv(\"CRBE Challenge.csv\")\n",
    "#120 random forrest with 100000 dataset 62 percent actually 6 percent"
   ]
  },
  {
   "cell_type": "code",
   "execution_count": 3,
   "id": "6013b2d0",
   "metadata": {},
   "outputs": [],
   "source": [
    "df=pd.concat([df,df2])"
   ]
  },
  {
   "cell_type": "code",
   "execution_count": 4,
   "id": "5bfa02d4",
   "metadata": {},
   "outputs": [],
   "source": [
    "df=df[['Asset ID',\n",
    "'Asset Type',\n",
    "'Floor',\n",
    "'Room',\n",
    "'Installation Date',\n",
    "'Manufacturer',\n",
    "'Operational Time (hrs)',\n",
    "'Work Orders',\n",
    "'Last Serviced Date',\n",
    "'Repairs'\n",
    "]]"
   ]
  },
  {
   "cell_type": "code",
   "execution_count": 5,
   "id": "a2dc79d5",
   "metadata": {},
   "outputs": [],
   "source": [
    "df=df.sort_values(by=[\"Repairs\",'Installation Date',\n",
    " 'Last Serviced Date',\n",
    " 'Work Orders',\n",
    " 'Operational Time (hrs)',\n",
    " 'Manufacturer',\n",
    " 'Asset Type',\n",
    " 'Asset ID'])\n",
    "#Works without the reset index\n",
    "#.reset_index(drop=True)\n",
    "# with %50 reset index with drop set to true sort_by .sort_values(by=[\"Repairs\",'Installation Date','Last Serviced Date','Work Orders','Operational Time (hrs)','Manufacturer','Asset Type']"
   ]
  },
  {
   "cell_type": "code",
   "execution_count": 6,
   "id": "c3c0a792",
   "metadata": {},
   "outputs": [],
   "source": [
    "#df=df.drop(columns=\"Asset ID\")\n",
    "df[\"Asset ID\"]=df[\"Asset ID\"].astype(str)"
   ]
  },
  {
   "cell_type": "code",
   "execution_count": 7,
   "id": "203a2024",
   "metadata": {},
   "outputs": [],
   "source": [
    "df[\"Floor\"]=df[\"Floor\"].astype(str)"
   ]
  },
  {
   "cell_type": "code",
   "execution_count": 8,
   "id": "f3be48c1",
   "metadata": {},
   "outputs": [],
   "source": [
    "df[\"Room\"]=df[\"Room\"].astype(str)"
   ]
  },
  {
   "cell_type": "code",
   "execution_count": 9,
   "id": "123858ad",
   "metadata": {},
   "outputs": [],
   "source": [
    "instances=[]\n",
    "for repair_num in df[\"Repairs\"]:\n",
    "    if repair_num>df[\"Repairs\"].quantile(0.75):\n",
    "        instances.append(\"Extreme\")\n",
    "    else:\n",
    "        instances.append(\"Not Extreme\")\n",
    "df[\"extreme_repair\"]=instances"
   ]
  },
  {
   "cell_type": "code",
   "execution_count": 10,
   "id": "38525e8a",
   "metadata": {},
   "outputs": [],
   "source": [
    "df[\"Installation Date\"]=pd.to_datetime(df[\"Installation Date\"])\n",
    "instal_date=[int(date.timestamp()) for date in df[\"Installation Date\"]]\n",
    "df[\"Installation Date\"]=instal_date\n",
    "    \n",
    "df[\"Last Serviced Date\"]=pd.to_datetime(df[\"Last Serviced Date\"])\n",
    "service_date=[int(date.timestamp()) for date in df[\"Last Serviced Date\"]]\n",
    "df[\"Last Serviced Date\"]=service_date"
   ]
  },
  {
   "cell_type": "code",
   "execution_count": 11,
   "id": "d5fd8514",
   "metadata": {},
   "outputs": [],
   "source": [
    "season=[]\n",
    "#https://www.geeksforgeeks.org/print-the-season-name-of-the-year-based-on-the-month-number/\n",
    "season_months = [[12 , 1 , 2], [3 , 4 , 5],\n",
    "             [6 , 7 , 8], [9 , 10 , 11]]\n",
    "for month in pd.to_datetime(df[\"Installation Date\"]):\n",
    "    if int(month.month) in season_months[0] :\n",
    "        season.append('winter')\n",
    "    elif int(month.month) in season_months[1] :\n",
    "        season.append(\"spring\")\n",
    "    elif int(month.month) in season_months[2] :\n",
    "        season.append(\"summer\")\n",
    "    elif int(month.month) in season_months[3] :\n",
    "        season.append(\"fall\")\n",
    "df[\"season\"]=season"
   ]
  },
  {
   "cell_type": "code",
   "execution_count": 12,
   "id": "37c40d3c",
   "metadata": {},
   "outputs": [],
   "source": [
    "df=df[[\n",
    "'extreme_repair',\n",
    "'Operational Time (hrs)',\n",
    "'Work Orders',\n",
    "#'old_instances',\n",
    "'Asset ID',\n",
    "'Asset Type',\n",
    "'Floor',\n",
    "'Room',\n",
    "'season',\n",
    "'Manufacturer',\n",
    "'Last Serviced Date',\n",
    "'Installation Date',\n",
    "'Repairs']]"
   ]
  },
  {
   "cell_type": "code",
   "execution_count": 13,
   "id": "d0afba9a",
   "metadata": {},
   "outputs": [],
   "source": [
    "def train_test(df):\n",
    "    y=df.iloc[:,len(df.columns)-1].values\n",
    "    x=df.iloc[:,0:len(df.columns)-2].values\n",
    "    x_train,x_test,y_train,y_test=train_test_split(x,y,test_size=0.2,random_state=42)\n",
    "    return x_train,x_test,y_train,y_test"
   ]
  },
  {
   "cell_type": "code",
   "execution_count": 14,
   "id": "eeb481db",
   "metadata": {},
   "outputs": [],
   "source": [
    "df=pd.get_dummies(df)"
   ]
  },
  {
   "cell_type": "code",
   "execution_count": 15,
   "id": "db997902",
   "metadata": {},
   "outputs": [],
   "source": [
    "df_repairs=df[[\"Repairs\"]]"
   ]
  },
  {
   "cell_type": "code",
   "execution_count": 16,
   "id": "f62ac7b8",
   "metadata": {},
   "outputs": [],
   "source": [
    "df=df.drop(columns=[\"Repairs\"])"
   ]
  },
  {
   "cell_type": "code",
   "execution_count": 17,
   "id": "cdcc942d",
   "metadata": {},
   "outputs": [],
   "source": [
    "df[\"Repairs\"]=df_repairs"
   ]
  },
  {
   "cell_type": "code",
   "execution_count": 18,
   "id": "ad44fa08",
   "metadata": {},
   "outputs": [],
   "source": [
    "df.to_csv(\"CRBE Challenge Clean Stacked Data.csv\", index=False)"
   ]
  },
  {
   "cell_type": "code",
   "execution_count": 19,
   "id": "9f2be7a2",
   "metadata": {},
   "outputs": [],
   "source": [
    "df=df.drop(columns=[\"Repairs\"])"
   ]
  },
  {
   "cell_type": "code",
   "execution_count": 20,
   "id": "184042f3",
   "metadata": {},
   "outputs": [],
   "source": [
    "df.to_csv(\"CRBE Challenge Clean Stacked Data Prediction Set.csv\", index=False)"
   ]
  },
  {
   "cell_type": "code",
   "execution_count": 21,
   "id": "1ea14d20",
   "metadata": {},
   "outputs": [],
   "source": [
    "data_sets=train_test(df)"
   ]
  },
  {
   "cell_type": "code",
   "execution_count": 22,
   "id": "2cba872b",
   "metadata": {
    "scrolled": true
   },
   "outputs": [
    {
     "name": "stdout",
     "output_type": "stream",
     "text": [
      "Variance score (lr): %.2f 0.8301154405892616\n"
     ]
    }
   ],
   "source": [
    "regression=LinearRegression()\n",
    "regression.fit(data_sets[0],data_sets[2])\n",
    "y_pred_lr=regression.predict(data_sets[1])\n",
    "\n",
    "print('Variance score (lr): %.2f', explained_variance_score(data_sets[3], y_pred_lr))"
   ]
  }
 ],
 "metadata": {
  "kernelspec": {
   "display_name": "Python 3 (ipykernel)",
   "language": "python",
   "name": "python3"
  },
  "language_info": {
   "codemirror_mode": {
    "name": "ipython",
    "version": 3
   },
   "file_extension": ".py",
   "mimetype": "text/x-python",
   "name": "python",
   "nbconvert_exporter": "python",
   "pygments_lexer": "ipython3",
   "version": "3.11.4"
  }
 },
 "nbformat": 4,
 "nbformat_minor": 5
}
